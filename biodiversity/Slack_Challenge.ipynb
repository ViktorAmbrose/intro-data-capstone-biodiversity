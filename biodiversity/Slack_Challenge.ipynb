{
 "cells": [
  {
   "cell_type": "code",
   "execution_count": 1,
   "metadata": {},
   "outputs": [],
   "source": [
    "import pandas as pd\n",
    "import numpy as np"
   ]
  },
  {
   "cell_type": "code",
   "execution_count": 2,
   "metadata": {},
   "outputs": [],
   "source": [
    "species=pd.read_csv('species_info.csv', na_values=\"\")"
   ]
  },
  {
   "cell_type": "code",
   "execution_count": 3,
   "metadata": {},
   "outputs": [],
   "source": [
    "species['conservation_status'].fillna('Blank',inplace=True)\n",
    "#species"
   ]
  },
  {
   "cell_type": "code",
   "execution_count": 4,
   "metadata": {},
   "outputs": [
    {
     "name": "stdout",
     "output_type": "stream",
     "text": [
      "        scientific_name  conservation_status\n",
      "0         Abies bifolia                    1\n",
      "1        Abies concolor                    1\n",
      "2         Abies fraseri                    1\n",
      "3  Abietinella abietina                    1\n",
      "4     Abronia ammophila                    1\n",
      "\n",
      "       scientific_name  conservation_status\n",
      "0          Canis lupus                    2\n",
      "1  Oncorhynchus mykiss                    2\n"
     ]
    }
   ],
   "source": [
    "question=species.groupby(['scientific_name']).conservation_status.nunique().reset_index()\n",
    "print(question.head())\n",
    "print()\n",
    "in_question=question[question.conservation_status>1][['scientific_name','conservation_status']].reset_index(drop=True)\n",
    "print(in_question)"
   ]
  },
  {
   "cell_type": "code",
   "execution_count": 5,
   "metadata": {},
   "outputs": [
    {
     "name": "stdout",
     "output_type": "stream",
     "text": [
      "     scientific_name     common_names conservation_status\n",
      "8        Canis lupus        Gray Wolf          Endangered\n",
      "3020     Canis lupus  Gray Wolf, Wolf         In Recovery\n",
      "4448     Canis lupus  Gray Wolf, Wolf          Endangered\n",
      "\n",
      "          scientific_name   common_names conservation_status\n",
      "560   Oncorhynchus mykiss  Rainbow Trout               Blank\n",
      "3283  Oncorhynchus mykiss  Rainbow Trout          Threatened\n",
      "\n"
     ]
    }
   ],
   "source": [
    "for x in in_question.scientific_name:\n",
    "    print(species[['scientific_name','common_names','conservation_status']][species.scientific_name==x])\n",
    "    print()"
   ]
  },
  {
   "cell_type": "code",
   "execution_count": 6,
   "metadata": {},
   "outputs": [],
   "source": [
    "obser=pd.read_csv('observations.csv')\n",
    "#obser"
   ]
  },
  {
   "cell_type": "code",
   "execution_count": 7,
   "metadata": {},
   "outputs": [],
   "source": [
    "park=obser.groupby(['scientific_name','park_name']).observations.sum().reset_index()\n",
    "#park"
   ]
  },
  {
   "cell_type": "code",
   "execution_count": 8,
   "metadata": {},
   "outputs": [
    {
     "name": "stdout",
     "output_type": "stream",
     "text": [
      "     scientific_name                            park_name  observations\n",
      "3216     Canis lupus                  Bryce National Park           130\n",
      "3217     Canis lupus  Great Smoky Mountains National Park            59\n",
      "3218     Canis lupus            Yellowstone National Park           330\n",
      "3219     Canis lupus               Yosemite National Park           196\n",
      "           scientific_name                            park_name  observations\n",
      "13720  Oncorhynchus mykiss                  Bryce National Park           164\n",
      "13721  Oncorhynchus mykiss  Great Smoky Mountains National Park           100\n",
      "13722  Oncorhynchus mykiss            Yellowstone National Park           372\n",
      "13723  Oncorhynchus mykiss               Yosemite National Park           177\n"
     ]
    }
   ],
   "source": [
    "for x in in_question.scientific_name:\n",
    "    print(park[park.scientific_name==x])"
   ]
  }
 ],
 "metadata": {
  "kernelspec": {
   "display_name": "Python 3",
   "language": "python",
   "name": "python3"
  },
  "language_info": {
   "codemirror_mode": {
    "name": "ipython",
    "version": 3
   },
   "file_extension": ".py",
   "mimetype": "text/x-python",
   "name": "python",
   "nbconvert_exporter": "python",
   "pygments_lexer": "ipython3",
   "version": "3.6.4"
  }
 },
 "nbformat": 4,
 "nbformat_minor": 2
}
